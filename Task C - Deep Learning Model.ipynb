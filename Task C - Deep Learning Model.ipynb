{
 "cells": [
  {
   "cell_type": "code",
   "execution_count": 1,
   "metadata": {},
   "outputs": [],
   "source": [
    "import pandas as pd\n",
    "import seaborn as sb\n",
    "import numpy as np"
   ]
  },
  {
   "cell_type": "code",
   "execution_count": 2,
   "metadata": {},
   "outputs": [
    {
     "name": "stderr",
     "output_type": "stream",
     "text": [
      "Using TensorFlow backend.\n",
      "[nltk_data] Downloading package stopwords to\n",
      "[nltk_data]     /Users/nikhiloswal/nltk_data...\n",
      "[nltk_data]   Package stopwords is already up-to-date!\n",
      "[nltk_data] Downloading package punkt to\n",
      "[nltk_data]     /Users/nikhiloswal/nltk_data...\n",
      "[nltk_data]   Package punkt is already up-to-date!\n"
     ]
    }
   ],
   "source": [
    "\n",
    "import numpy as np # linear algebra\n",
    "import pandas as pd # data processing, CSV file I/O (e.g. pd.read_csv)\n",
    "\n",
    "import matplotlib.pyplot as plt\n",
    "\n",
    "import os\n",
    "import nltk\n",
    "from nltk.corpus import stopwords\n",
    "import seaborn as sns\n",
    "from sklearn.metrics import f1_score\n",
    "from sklearn.model_selection import KFold\n",
    "from sklearn.feature_extraction.text import TfidfVectorizer,CountVectorizer\n",
    "from sklearn.linear_model import LogisticRegression\n",
    "from sklearn.model_selection import cross_val_score\n",
    "from sklearn.ensemble import RandomForestClassifier\n",
    "from sklearn.naive_bayes import GaussianNB,MultinomialNB,ComplementNB,BernoulliNB\n",
    "import emoji\n",
    "import re\n",
    "from collections import Counter\n",
    "from sklearn.datasets import make_classification\n",
    "\n",
    "from imblearn.under_sampling import RandomUnderSampler\n",
    "from sklearn import model_selection, naive_bayes, svm\n",
    "from sklearn.metrics import accuracy_score\n",
    "from sklearn.metrics import accuracy_score, f1_score, precision_score, recall_score, classification_report, confusion_matrix\n",
    "\n",
    "from nltk import FreqDist\n",
    "import nltk\n",
    "nltk.download('stopwords')\n",
    "nltk.download('punkt')\n",
    "from nltk.tokenize import sent_tokenize, word_tokenize\n",
    "from nltk.corpus import stopwords\n",
    "from keras.utils import to_categorical\n",
    "\n"
   ]
  },
  {
   "cell_type": "code",
   "execution_count": 3,
   "metadata": {},
   "outputs": [],
   "source": [
    "import os\n",
    "import time\n",
    "import numpy as np # linear algebra\n",
    "import pandas as pd # data processing, CSV file I/O (e.g. pd.read_csv)\n",
    "from tqdm import tqdm\n",
    "import math\n",
    "from sklearn.model_selection import train_test_split\n",
    "from sklearn import metrics\n",
    "import gc\n",
    "import matplotlib.pyplot as plt\n",
    "\n",
    "from keras.preprocessing.text import Tokenizer\n",
    "from keras.preprocessing.sequence import pad_sequences\n",
    "from keras.layers import Dense, Input, LSTM, Embedding, Dropout, Activation, CuDNNGRU, Conv1D, CuDNNLSTM, concatenate\n",
    "from keras.layers import Bidirectional, GlobalMaxPool1D, Dropout, SpatialDropout1D, GlobalAveragePooling1D, GlobalMaxPooling1D\n",
    "from keras.models import Model\n",
    "from keras import initializers, regularizers, constraints, optimizers, layers"
   ]
  },
  {
   "cell_type": "code",
   "execution_count": 4,
   "metadata": {},
   "outputs": [],
   "source": [
    "train_data = pd.read_csv('./datasets/training-v1/offenseval-training-v1.tsv' , sep='\\t')\n",
    "train_data.drop(['id'], axis=1, inplace = True)"
   ]
  },
  {
   "cell_type": "code",
   "execution_count": 5,
   "metadata": {},
   "outputs": [],
   "source": [
    "trial_data = pd.read_csv('./datasets/training-v1/offenseval-trial.tsv' , names=['tweet','subtask_a','subtask_b','subtask_c' ], sep='\\t')"
   ]
  },
  {
   "cell_type": "code",
   "execution_count": 6,
   "metadata": {},
   "outputs": [],
   "source": [
    "train_data = pd.concat([trial_data, train_data], ignore_index=True)"
   ]
  },
  {
   "cell_type": "code",
   "execution_count": 7,
   "metadata": {},
   "outputs": [
    {
     "data": {
      "text/plain": [
       "(13560, 4)"
      ]
     },
     "execution_count": 7,
     "metadata": {},
     "output_type": "execute_result"
    }
   ],
   "source": [
    "train_data.shape"
   ]
  },
  {
   "cell_type": "markdown",
   "metadata": {},
   "source": [
    "## Exploratory Data Analysis"
   ]
  },
  {
   "cell_type": "code",
   "execution_count": 8,
   "metadata": {},
   "outputs": [
    {
     "data": {
      "text/html": [
       "<div>\n",
       "<style scoped>\n",
       "    .dataframe tbody tr th:only-of-type {\n",
       "        vertical-align: middle;\n",
       "    }\n",
       "\n",
       "    .dataframe tbody tr th {\n",
       "        vertical-align: top;\n",
       "    }\n",
       "\n",
       "    .dataframe thead th {\n",
       "        text-align: right;\n",
       "    }\n",
       "</style>\n",
       "<table border=\"1\" class=\"dataframe\">\n",
       "  <thead>\n",
       "    <tr style=\"text-align: right;\">\n",
       "      <th></th>\n",
       "      <th>tweet</th>\n",
       "      <th>subtask_a</th>\n",
       "      <th>subtask_b</th>\n",
       "      <th>subtask_c</th>\n",
       "    </tr>\n",
       "  </thead>\n",
       "  <tbody>\n",
       "    <tr>\n",
       "      <th>0</th>\n",
       "      <td>@BreitbartNews OK Shannon, YOU tell the vetera...</td>\n",
       "      <td>NOT</td>\n",
       "      <td>NaN</td>\n",
       "      <td>NaN</td>\n",
       "    </tr>\n",
       "    <tr>\n",
       "      <th>1</th>\n",
       "      <td>@LeftyGlenn @jaredeker @BookUniverse @hashtagz...</td>\n",
       "      <td>NOT</td>\n",
       "      <td>NaN</td>\n",
       "      <td>NaN</td>\n",
       "    </tr>\n",
       "    <tr>\n",
       "      <th>2</th>\n",
       "      <td>Hot Mom Sucks Off Step Son In Shower 8 min htt...</td>\n",
       "      <td>OFF</td>\n",
       "      <td>UNT</td>\n",
       "      <td>NaN</td>\n",
       "    </tr>\n",
       "    <tr>\n",
       "      <th>3</th>\n",
       "      <td>bro these are some cute butt plugs I’m trying ...</td>\n",
       "      <td>OFF</td>\n",
       "      <td>UNT</td>\n",
       "      <td>NaN</td>\n",
       "    </tr>\n",
       "    <tr>\n",
       "      <th>4</th>\n",
       "      <td>Arizona Supreme Court strikes down state legis...</td>\n",
       "      <td>NOT</td>\n",
       "      <td>NaN</td>\n",
       "      <td>NaN</td>\n",
       "    </tr>\n",
       "  </tbody>\n",
       "</table>\n",
       "</div>"
      ],
      "text/plain": [
       "                                               tweet subtask_a subtask_b  \\\n",
       "0  @BreitbartNews OK Shannon, YOU tell the vetera...       NOT       NaN   \n",
       "1  @LeftyGlenn @jaredeker @BookUniverse @hashtagz...       NOT       NaN   \n",
       "2  Hot Mom Sucks Off Step Son In Shower 8 min htt...       OFF       UNT   \n",
       "3  bro these are some cute butt plugs I’m trying ...       OFF       UNT   \n",
       "4  Arizona Supreme Court strikes down state legis...       NOT       NaN   \n",
       "\n",
       "  subtask_c  \n",
       "0       NaN  \n",
       "1       NaN  \n",
       "2       NaN  \n",
       "3       NaN  \n",
       "4       NaN  "
      ]
     },
     "execution_count": 8,
     "metadata": {},
     "output_type": "execute_result"
    }
   ],
   "source": [
    "train_data.head()"
   ]
  },
  {
   "cell_type": "code",
   "execution_count": 9,
   "metadata": {},
   "outputs": [
    {
     "name": "stdout",
     "output_type": "stream",
     "text": [
      "<class 'pandas.core.frame.DataFrame'>\n",
      "RangeIndex: 13560 entries, 0 to 13559\n",
      "Data columns (total 4 columns):\n",
      "tweet        13560 non-null object\n",
      "subtask_a    13560 non-null object\n",
      "subtask_b    4477 non-null object\n",
      "subtask_c    3915 non-null object\n",
      "dtypes: object(4)\n",
      "memory usage: 423.8+ KB\n"
     ]
    }
   ],
   "source": [
    "train_data.info()"
   ]
  },
  {
   "cell_type": "code",
   "execution_count": 10,
   "metadata": {},
   "outputs": [],
   "source": [
    "train_data = train_data[train_data.subtask_c != 'ORG']"
   ]
  },
  {
   "cell_type": "code",
   "execution_count": 11,
   "metadata": {},
   "outputs": [
    {
     "data": {
      "image/png": "[encoded data removed]",
      "text/plain": [
       "<Figure size 432x288 with 1 Axes>"
      ]
     },
     "metadata": {},
     "output_type": "display_data"
    }
   ],
   "source": [
    "ax=train_data['subtask_c'].value_counts().plot.pie(explode=[0,0.1,0.2],autopct='%1.1f%%' ,shadow=True)\n",
    "ax.set_title('Distribution of Tweets')\n",
    "ax.set_ylabel('')\n",
    "plt.show()"
   ]
  },
  {
   "cell_type": "code",
   "execution_count": 12,
   "metadata": {},
   "outputs": [
    {
     "name": "stdout",
     "output_type": "stream",
     "text": [
      "Individual:  2437\n",
      "Group :  1078\n",
      "Other :  397\n"
     ]
    },
    {
     "data": {
      "image/png": "[encoded data removed]",
      "text/plain": [
       "<Figure size 432x288 with 1 Axes>"
      ]
     },
     "metadata": {
      "needs_background": "light"
     },
     "output_type": "display_data"
    }
   ],
   "source": [
    "plot_sb = sb.countplot(train_data['subtask_c'], label='Total')\n",
    "IND, GRP ,OTH  = train_data['subtask_c'].value_counts()\n",
    "print('Individual: ',IND)\n",
    "print('Group : ',GRP)\n",
    "print('Other : ',OTH)"
   ]
  },
  {
   "cell_type": "markdown",
   "metadata": {},
   "source": [
    "## Preprocessing Dataset"
   ]
  },
  {
   "cell_type": "code",
   "execution_count": 13,
   "metadata": {},
   "outputs": [],
   "source": [
    "def handle_emoji(text):\n",
    "    # Dictionnary of \"important\" emojis : \n",
    "    emoji_dict =  {'♥️': ' love ',\n",
    "                   '❤️' : ' love ',\n",
    "                   '❤' : ' love ',\n",
    "                   '😘' : ' kisses ',\n",
    "                  '😭' : ' cry ',\n",
    "                  '💪' : ' strong ',\n",
    "                  '🌍' : ' earth ',\n",
    "                  '💰' : ' money ',\n",
    "                  '👍' : ' ok ',\n",
    "                   '👌' : ' ok ',\n",
    "                  '😡' : ' angry ',\n",
    "                  '🍆' : ' dick ',\n",
    "                  '🤣' : ' haha ',\n",
    "                  '😂' : ' haha ',\n",
    "                  '🖕' : ' fuck you '}\n",
    "\n",
    "    for cha in emoji_dict:\n",
    "        text = re.compile(str(cha)).sub(str(emoji_dict[cha]),text)\n",
    "    # Remove ALL emojis\n",
    "    text = emoji.get_emoji_regexp().sub(r' ',text) \n",
    "    text = re.compile(\"([\\U0001f3fb-\\U0001f3ff])\").sub(r'',text) \n",
    "    text = re.compile(\"([\\U00010000-\\U0010ffff])\").sub(r'',text) \n",
    "    text = re.compile(\"(\\u00a9|\\u00ae|[\\u2000-\\u3300]|\\ud83c[\\ud000-\\udfff]|\\ud83d[\\ud000-\\udfff]|\\ud83e[\\ud000-\\udfff])\").sub(r'',text)\n",
    "\n",
    "    # Add Space between  the Emoji Expressions : \n",
    "    text = re.compile(\"([\\U00010000-\\U0010ffff])\").sub(r' \\1 ',text) \n",
    "    return text\n"
   ]
  },
  {
   "cell_type": "code",
   "execution_count": 14,
   "metadata": {},
   "outputs": [],
   "source": [
    "def clean_tweet(text):\n",
    "    ''' Function that is applied to every to tweet in the dataset '''\n",
    "\n",
    "    # =========== TEXT ===========\n",
    "    # Replace @USER by <user>\n",
    "    text = re.compile(r'@USER').sub(r'<user>',text)\n",
    "\n",
    "    # Replace URL by <url>\n",
    "    text = re.compile(r'URL').sub(r'<url>',text)\n",
    "\n",
    "    # Remove numbers :\n",
    "    text = re.compile(r'[0-9]+').sub(r' ',text)\n",
    "\n",
    "    # Remove some special characters\n",
    "    text = re.compile(r'([\\xa0_\\{\\}\\[\\]¬•$,:;/@#|\\^*%().~`”\"“-])').sub(r' ',text) \n",
    "\n",
    "    # Space the special characters with white spaces\n",
    "    text = re.compile(r'([$&+,:;=?@#|\\'.^*()%!\"’“-])').sub(r' \\1 ',text)\n",
    "\n",
    "    # Replace some special characters : \n",
    "    replace_dict = {r'&' : 'and' , r'&amp;' : 'and' , \n",
    "                    r'\\+' : 'plus'}\n",
    "    for cha in replace_dict:\n",
    "        text = re.compile(str(cha)).sub(str(replace_dict[cha]),text)\n",
    "\n",
    "    # Handle Emoji : translate some and delete the others\n",
    "    text = handle_emoji(text)\n",
    "\n",
    "    # Word delengthening : \n",
    "    text = re.compile(r'(.)\\1{3,}').sub(r'\\1\\1',text)\n",
    "\n",
    "    # Cut the words with caps in them : \n",
    "    text = re.compile(r'([a-z]+|[A-Z]+|[A-Z][a-z]+)([A-Z][a-z]+)').sub(r'\\1 \\2',text)\n",
    "    text = re.compile(r'([a-z]+|[A-Z]+|[A-Z][a-z]+)([A-Z][a-z]+)').sub(r'\\1 \\2',text)        \n",
    "    # =========== TOKENS ===========\n",
    "    # TOKENIZE \n",
    "    text = text.split(' ')\n",
    "\n",
    "    # Remove white spaces tokens\n",
    "    text = [text[i] for i in range(len(text)) if text[i] != ' ']\n",
    "\n",
    "    # Remove empty tokens\n",
    "    text = [text[i] for i in range(len(text)) if text[i] != '']\n",
    "\n",
    "    # Remove repetition in tokens (!!! => !)\n",
    "    text = [text[i] for i in range(len(text)) if text[i] != text[i-1]]\n",
    "\n",
    "    #  Handle the ALL CAPS Tweets \n",
    "    ### if ratio of caps in the word > 75% add allcaps tag <allcaps>\n",
    "    caps_r = np.mean([text[i].isupper() for i in range(len(text))])\n",
    "    if caps_r > 0.6 : \n",
    "        text.append('<allcaps>')\n",
    "\n",
    "    # Lower Case : \n",
    "    text = [text[i].lower() for i in range(len(text))]\n",
    "    \n",
    "    return \" \".join(str(x) for x in text)"
   ]
  },
  {
   "cell_type": "code",
   "execution_count": 15,
   "metadata": {},
   "outputs": [],
   "source": [
    "train_data['subtask_c'].replace({'IND':0, 'GRP': 1, 'OTH': 2}, inplace= True)"
   ]
  },
  {
   "cell_type": "code",
   "execution_count": 16,
   "metadata": {},
   "outputs": [],
   "source": [
    "train_data[\"preprocessed_tweet\"] = train_data[\"tweet\"].apply(clean_tweet)"
   ]
  },
  {
   "cell_type": "code",
   "execution_count": 17,
   "metadata": {},
   "outputs": [
    {
     "data": {
      "text/html": [
       "<div>\n",
       "<style scoped>\n",
       "    .dataframe tbody tr th:only-of-type {\n",
       "        vertical-align: middle;\n",
       "    }\n",
       "\n",
       "    .dataframe tbody tr th {\n",
       "        vertical-align: top;\n",
       "    }\n",
       "\n",
       "    .dataframe thead th {\n",
       "        text-align: right;\n",
       "    }\n",
       "</style>\n",
       "<table border=\"1\" class=\"dataframe\">\n",
       "  <thead>\n",
       "    <tr style=\"text-align: right;\">\n",
       "      <th></th>\n",
       "      <th>tweet</th>\n",
       "      <th>subtask_a</th>\n",
       "      <th>subtask_b</th>\n",
       "      <th>subtask_c</th>\n",
       "      <th>preprocessed_tweet</th>\n",
       "    </tr>\n",
       "  </thead>\n",
       "  <tbody>\n",
       "    <tr>\n",
       "      <th>0</th>\n",
       "      <td>@BreitbartNews OK Shannon, YOU tell the vetera...</td>\n",
       "      <td>NOT</td>\n",
       "      <td>NaN</td>\n",
       "      <td>NaN</td>\n",
       "      <td>breitbart news ok shannon you tell the veteran...</td>\n",
       "    </tr>\n",
       "    <tr>\n",
       "      <th>1</th>\n",
       "      <td>@LeftyGlenn @jaredeker @BookUniverse @hashtagz...</td>\n",
       "      <td>NOT</td>\n",
       "      <td>NaN</td>\n",
       "      <td>NaN</td>\n",
       "      <td>lefty glenn jaredeker book universe hashtagzem...</td>\n",
       "    </tr>\n",
       "    <tr>\n",
       "      <th>2</th>\n",
       "      <td>Hot Mom Sucks Off Step Son In Shower 8 min htt...</td>\n",
       "      <td>OFF</td>\n",
       "      <td>UNT</td>\n",
       "      <td>NaN</td>\n",
       "      <td>hot mom sucks off step son in shower min https...</td>\n",
       "    </tr>\n",
       "    <tr>\n",
       "      <th>3</th>\n",
       "      <td>bro these are some cute butt plugs I’m trying ...</td>\n",
       "      <td>OFF</td>\n",
       "      <td>UNT</td>\n",
       "      <td>NaN</td>\n",
       "      <td>bro these are some cute butt plugs i m trying ...</td>\n",
       "    </tr>\n",
       "    <tr>\n",
       "      <th>4</th>\n",
       "      <td>Arizona Supreme Court strikes down state legis...</td>\n",
       "      <td>NOT</td>\n",
       "      <td>NaN</td>\n",
       "      <td>NaN</td>\n",
       "      <td>arizona supreme court strikes down state legis...</td>\n",
       "    </tr>\n",
       "  </tbody>\n",
       "</table>\n",
       "</div>"
      ],
      "text/plain": [
       "                                               tweet subtask_a subtask_b  \\\n",
       "0  @BreitbartNews OK Shannon, YOU tell the vetera...       NOT       NaN   \n",
       "1  @LeftyGlenn @jaredeker @BookUniverse @hashtagz...       NOT       NaN   \n",
       "2  Hot Mom Sucks Off Step Son In Shower 8 min htt...       OFF       UNT   \n",
       "3  bro these are some cute butt plugs I’m trying ...       OFF       UNT   \n",
       "4  Arizona Supreme Court strikes down state legis...       NOT       NaN   \n",
       "\n",
       "   subtask_c                                 preprocessed_tweet  \n",
       "0        NaN  breitbart news ok shannon you tell the veteran...  \n",
       "1        NaN  lefty glenn jaredeker book universe hashtagzem...  \n",
       "2        NaN  hot mom sucks off step son in shower min https...  \n",
       "3        NaN  bro these are some cute butt plugs i m trying ...  \n",
       "4        NaN  arizona supreme court strikes down state legis...  "
      ]
     },
     "execution_count": 17,
     "metadata": {},
     "output_type": "execute_result"
    }
   ],
   "source": [
    "train_data.head()"
   ]
  },
  {
   "cell_type": "code",
   "execution_count": 18,
   "metadata": {},
   "outputs": [],
   "source": [
    "train_data = train_data.dropna(subset=['subtask_c'])"
   ]
  },
  {
   "cell_type": "code",
   "execution_count": 19,
   "metadata": {},
   "outputs": [
    {
     "data": {
      "text/plain": [
       "(3912, 5)"
      ]
     },
     "execution_count": 19,
     "metadata": {},
     "output_type": "execute_result"
    }
   ],
   "source": [
    "train_data.shape"
   ]
  },
  {
   "cell_type": "markdown",
   "metadata": {},
   "source": [
    "## Feature Extraction"
   ]
  },
  {
   "cell_type": "code",
   "execution_count": 20,
   "metadata": {},
   "outputs": [],
   "source": [
    "X = train_data[\"preprocessed_tweet\"].values\n",
    "y = train_data[\"subtask_c\"].values"
   ]
  },
  {
   "cell_type": "code",
   "execution_count": 21,
   "metadata": {},
   "outputs": [],
   "source": [
    "y = to_categorical(y)"
   ]
  },
  {
   "cell_type": "code",
   "execution_count": 100,
   "metadata": {},
   "outputs": [],
   "source": [
    "from sklearn.model_selection import train_test_split\n",
    "train_X, test_X, train_y, test_y = train_test_split(X, y, stratify=y, test_size=0.25)\n",
    "train_X, val_X, train_y, val_y = train_test_split(train_X, train_y, stratify=train_y, test_size=0.1)"
   ]
  },
  {
   "cell_type": "code",
   "execution_count": 101,
   "metadata": {},
   "outputs": [
    {
     "name": "stdout",
     "output_type": "stream",
     "text": [
      "Train shape :  (2640,)\n",
      "Validation shape :  (294,)\n",
      "Test shape :  (978,)\n"
     ]
    }
   ],
   "source": [
    "print(\"Train shape : \",train_X.shape)\n",
    "print(\"Validation shape : \",val_X.shape)\n",
    "print(\"Test shape : \",test_X.shape)\n"
   ]
  },
  {
   "cell_type": "code",
   "execution_count": 102,
   "metadata": {},
   "outputs": [
    {
     "name": "stdout",
     "output_type": "stream",
     "text": [
      "[[0.00e+00 5.28e+03]\n",
      " [1.00e+00 2.64e+03]]\n",
      "[[  0. 588.]\n",
      " [  1. 294.]]\n",
      "[[0.000e+00 1.956e+03]\n",
      " [1.000e+00 9.780e+02]]\n"
     ]
    }
   ],
   "source": [
    "unique, counts = np.unique(train_y, return_counts=True)\n",
    "print(np.asarray((unique, counts)).T)\n",
    "\n",
    "unique, counts = np.unique(val_y, return_counts=True)\n",
    "print(np.asarray((unique, counts)).T)\n",
    "\n",
    "unique, counts = np.unique(test_y, return_counts=True)\n",
    "print(np.asarray((unique, counts)).T)"
   ]
  },
  {
   "cell_type": "code",
   "execution_count": 25,
   "metadata": {},
   "outputs": [],
   "source": [
    "# testdf = pd.DataFrame()\n",
    "# testdf['tweet'] = test_X\n",
    "\n",
    "# testdf['subtask_c'] = test_y\n",
    "# testdf.shape"
   ]
  },
  {
   "cell_type": "markdown",
   "metadata": {},
   "source": [
    "### Tokenize the sentences"
   ]
  },
  {
   "cell_type": "code",
   "execution_count": 103,
   "metadata": {},
   "outputs": [],
   "source": [
    "max_features = 50000 # how many unique words to use (i.e num rows in embedding vector)\n",
    "maxlen = 100 # max number of words in a question to use\n"
   ]
  },
  {
   "cell_type": "code",
   "execution_count": 104,
   "metadata": {},
   "outputs": [],
   "source": [
    "tokenizer = Tokenizer(num_words=max_features)\n",
    "tokenizer.fit_on_texts(list(train_X))\n",
    "train_X = tokenizer.texts_to_sequences(train_X)\n",
    "val_X = tokenizer.texts_to_sequences(val_X)\n",
    "test_X = tokenizer.texts_to_sequences(test_X)"
   ]
  },
  {
   "cell_type": "markdown",
   "metadata": {},
   "source": [
    "### Pad the sentences"
   ]
  },
  {
   "cell_type": "code",
   "execution_count": 105,
   "metadata": {},
   "outputs": [],
   "source": [
    "train_X = pad_sequences(train_X, maxlen=maxlen)\n",
    "test_X = pad_sequences(test_X, maxlen=maxlen)\n",
    "val_X = pad_sequences(val_X, maxlen=maxlen)"
   ]
  },
  {
   "cell_type": "code",
   "execution_count": 106,
   "metadata": {},
   "outputs": [
    {
     "data": {
      "text/plain": [
       "2640"
      ]
     },
     "execution_count": 106,
     "metadata": {},
     "output_type": "execute_result"
    }
   ],
   "source": [
    "len(train_X)"
   ]
  },
  {
   "cell_type": "code",
   "execution_count": 107,
   "metadata": {},
   "outputs": [
    {
     "data": {
      "text/plain": [
       "array([   0,    0,    0,    0,    0,    0,    0,    0,    0,    0,    0,\n",
       "          0,    0,    0,    0,    0,    0,    0,    0,    0,    0,    0,\n",
       "          0,    0,    0,    0,    0,    0,    0,    0,    0,    0,    0,\n",
       "          0,    0,    0,    0,    0,    0,    0,    0,    0,    0,    0,\n",
       "          0,    0,    0,    0,    0,    0,    1, 2378,  186,    7,    9,\n",
       "         87,   39,  559,  139,   72,    7, 3558,    5,   26,   66, 2379,\n",
       "          6,  224, 3559,  170, 3560,   65,    4,  409,   29,    7,  126,\n",
       "         50, 1252,    6, 1812,  943,   13, 1813,    7, 1813,    9,   30,\n",
       "        128,   34,   16,  948,    8, 2380,    7,  287,   27,    4,  949,\n",
       "        322], dtype=int32)"
      ]
     },
     "execution_count": 107,
     "metadata": {},
     "output_type": "execute_result"
    }
   ],
   "source": [
    "train_X[110]"
   ]
  },
  {
   "cell_type": "code",
   "execution_count": 108,
   "metadata": {},
   "outputs": [],
   "source": [
    "\n",
    "S_DROPOUT = 0.4\n",
    "DROPOUT = 0.1"
   ]
  },
  {
   "cell_type": "code",
   "execution_count": 109,
   "metadata": {},
   "outputs": [
    {
     "data": {
      "text/plain": [
       "(2640, 100)"
      ]
     },
     "execution_count": 109,
     "metadata": {},
     "output_type": "execute_result"
    }
   ],
   "source": [
    "train_X.shape"
   ]
  },
  {
   "cell_type": "code",
   "execution_count": 110,
   "metadata": {},
   "outputs": [
    {
     "name": "stdout",
     "output_type": "stream",
     "text": [
      "[[0.00e+00 5.28e+03]\n",
      " [1.00e+00 2.64e+03]]\n",
      "[[  0. 588.]\n",
      " [  1. 294.]]\n",
      "[[0.000e+00 1.956e+03]\n",
      " [1.000e+00 9.780e+02]]\n"
     ]
    }
   ],
   "source": [
    "unique, counts = np.unique(train_y, return_counts=True)\n",
    "print(np.asarray((unique, counts)).T)\n",
    "\n",
    "unique, counts = np.unique(val_y, return_counts=True)\n",
    "print(np.asarray((unique, counts)).T)\n",
    "\n",
    "unique, counts = np.unique(test_y, return_counts=True)\n",
    "print(np.asarray((unique, counts)).T)"
   ]
  },
  {
   "cell_type": "markdown",
   "metadata": {},
   "source": [
    "## Function for Plotting"
   ]
  },
  {
   "cell_type": "code",
   "execution_count": 34,
   "metadata": {},
   "outputs": [],
   "source": [
    "def plotting(history):\n",
    "    plt.plot(history.history['acc'])\n",
    "    plt.plot(history.history['val_acc'])\n",
    "    plt.title('model accuracy')\n",
    "    plt.ylabel('accuracy')\n",
    "    plt.xlabel('epoch')\n",
    "    plt.legend(['train', 'test'], loc='upper left')\n",
    "    plt.show()\n",
    "\n",
    "    # summarize history for loss\n",
    "    plt.plot(history.history['loss'])\n",
    "    plt.plot(history.history['val_loss'])\n",
    "    plt.title('model loss')\n",
    "    plt.ylabel('loss')\n",
    "    plt.xlabel('epoch')\n",
    "    plt.legend(['train', 'test'], loc='upper left')\n",
    "    plt.show()    "
   ]
  },
  {
   "cell_type": "markdown",
   "metadata": {},
   "source": [
    "## Function for Confusion Matrix"
   ]
  },
  {
   "cell_type": "code",
   "execution_count": 35,
   "metadata": {},
   "outputs": [],
   "source": [
    "def getConfusionMatrix(y_test, y_pred):\n",
    "  # Confusion matrix\n",
    "  mat = confusion_matrix(y_test, y_pred)\n",
    "  cm = pd.DataFrame(mat)\n",
    "  TP = cm.iloc[1,1] # True Positive\n",
    "  TN = cm.iloc[0,0] # True Negative\n",
    "  FP = cm.iloc[0,1] # False Positive\n",
    "  FN = cm.iloc[1,0] # False Negative\n",
    "\n",
    "  print('Sensitivity: {:.2%}'.format(TP/(FN+TP)))\n",
    "  print('Specificity: {:.2%}'.format(TN/(FP+TN)))\n",
    "  \n",
    "  sns.heatmap(mat.T, square=True, annot=True, fmt='d', cbar=True)\n",
    "  plt.title('A confusion matrix showing the frequency of misclassifications by our classifier')\n",
    "  plt.xlabel('true label')\n",
    "  plt.ylabel('predicted label');\n",
    "  plt.show()"
   ]
  },
  {
   "cell_type": "markdown",
   "metadata": {},
   "source": [
    "## Undersampling"
   ]
  },
  {
   "cell_type": "code",
   "execution_count": 36,
   "metadata": {},
   "outputs": [],
   "source": [
    "def undersampleData(train_text_features_tf, train_y):\n",
    "    rus = RandomUnderSampler(random_state=0)\n",
    "    X_resampled, y_resampled = rus.fit_resample(train_text_features_tf, train_y)\n",
    "    print(sorted(Counter(y_resampled).items()))\n",
    "    return X_resampled, y_resampled\n"
   ]
  },
  {
   "cell_type": "markdown",
   "metadata": {},
   "source": [
    "## Oversampling"
   ]
  },
  {
   "cell_type": "code",
   "execution_count": 37,
   "metadata": {},
   "outputs": [],
   "source": [
    "def oversampleData(train_text_features_tf, train_y):\n",
    "    from imblearn.over_sampling import SMOTE\n",
    "    smote = SMOTE('minority')\n",
    "    x_oversampled, y_oversampled = smote.fit_sample(train_text_features_tf, train_y)\n",
    "    return x_oversampled, y_oversampled"
   ]
  },
  {
   "cell_type": "markdown",
   "metadata": {},
   "source": [
    "# Model"
   ]
  },
  {
   "cell_type": "markdown",
   "metadata": {},
   "source": [
    "## Without pretrained embeddings"
   ]
  },
  {
   "cell_type": "code",
   "execution_count": 71,
   "metadata": {},
   "outputs": [],
   "source": [
    "embed_size = 100"
   ]
  },
  {
   "cell_type": "code",
   "execution_count": 72,
   "metadata": {},
   "outputs": [
    {
     "name": "stdout",
     "output_type": "stream",
     "text": [
      "_________________________________________________________________\n",
      "Layer (type)                 Output Shape              Param #   \n",
      "=================================================================\n",
      "input_2 (InputLayer)         (None, 100)               0         \n",
      "_________________________________________________________________\n",
      "embedding_2 (Embedding)      (None, 100, 100)          5000000   \n",
      "_________________________________________________________________\n",
      "bidirectional_2 (Bidirection (None, 100, 128)          84480     \n",
      "_________________________________________________________________\n",
      "global_max_pooling1d_2 (Glob (None, 128)               0         \n",
      "_________________________________________________________________\n",
      "dense_3 (Dense)              (None, 16)                2064      \n",
      "_________________________________________________________________\n",
      "dropout_2 (Dropout)          (None, 16)                0         \n",
      "_________________________________________________________________\n",
      "dense_4 (Dense)              (None, 3)                 51        \n",
      "=================================================================\n",
      "Total params: 5,086,595\n",
      "Trainable params: 5,086,595\n",
      "Non-trainable params: 0\n",
      "_________________________________________________________________\n",
      "None\n"
     ]
    }
   ],
   "source": [
    "inp = Input(shape=(maxlen,))\n",
    "x = Embedding(max_features, embed_size)(inp)\n",
    "\n",
    "x = Bidirectional(LSTM(64, return_sequences=True))(x)\n",
    "x = GlobalMaxPool1D()(x)\n",
    "x = Dense(16, activation=\"relu\")(x)\n",
    "x = Dropout(0.1)(x)\n",
    "x = Dense(3, activation='sigmoid')(x)\n",
    "model = Model(inputs=inp, outputs=x)\n",
    "model.compile(loss='binary_crossentropy', optimizer='adam', metrics=['accuracy'])\n",
    "print(model.summary())"
   ]
  },
  {
   "cell_type": "code",
   "execution_count": null,
   "metadata": {},
   "outputs": [],
   "source": []
  },
  {
   "cell_type": "code",
   "execution_count": 73,
   "metadata": {},
   "outputs": [],
   "source": [
    "# inp = Input(shape=(maxlen,))\n",
    "# x = Embedding(max_features, embed_size)(inp)\n",
    "\n",
    "# x = Bidirectional(LSTM(64, return_sequences=True))(x)\n",
    "# x = GlobalMaxPool1D()(x)\n",
    "# x = Dense(16, activation=\"relu\")(x)\n",
    "# x = Dropout(0.1)(x)\n",
    "# x = Dense(1, activation=\"softmax\")(x)\n",
    "# model = Model(inputs=inp, outputs=x)\n",
    "# model.compile(loss='categorical_crossentropy', optimizer='adam', metrics=['accuracy'])\n",
    "# print(model.summary())"
   ]
  },
  {
   "cell_type": "code",
   "execution_count": 74,
   "metadata": {},
   "outputs": [],
   "source": [
    "#X_resampled, y_resampled = undersampleData(train_X, train_y)\n",
    "X_resampled, y_resampled = train_X, train_y\n",
    "#X_resampled, y_resampled = oversampleData(train_X, train_y)"
   ]
  },
  {
   "cell_type": "code",
   "execution_count": 75,
   "metadata": {},
   "outputs": [
    {
     "name": "stdout",
     "output_type": "stream",
     "text": [
      "Train on 2640 samples, validate on 294 samples\n",
      "Epoch 1/13\n",
      "2640/2640 [==============================] - 8s 3ms/step - loss: 0.6894 - acc: 0.6144 - val_loss: 0.6741 - val_acc: 0.7483\n",
      "Epoch 2/13\n",
      "2640/2640 [==============================] - 5s 2ms/step - loss: 0.6618 - acc: 0.7429 - val_loss: 0.6312 - val_acc: 0.7483\n",
      "Epoch 3/13\n",
      "2640/2640 [==============================] - 5s 2ms/step - loss: 0.6056 - acc: 0.7402 - val_loss: 0.5643 - val_acc: 0.7483\n",
      "Epoch 4/13\n",
      "2640/2640 [==============================] - 5s 2ms/step - loss: 0.5625 - acc: 0.7439 - val_loss: 0.5434 - val_acc: 0.7483\n",
      "Epoch 5/13\n",
      "2640/2640 [==============================] - 4s 2ms/step - loss: 0.5464 - acc: 0.7446 - val_loss: 0.5292 - val_acc: 0.7483\n",
      "Epoch 6/13\n",
      "2640/2640 [==============================] - 4s 2ms/step - loss: 0.5350 - acc: 0.7422 - val_loss: 0.5271 - val_acc: 0.7483\n",
      "Epoch 7/13\n",
      "2640/2640 [==============================] - 4s 2ms/step - loss: 0.5354 - acc: 0.7375 - val_loss: 0.5251 - val_acc: 0.7483\n",
      "Epoch 8/13\n",
      "2640/2640 [==============================] - 4s 2ms/step - loss: 0.5314 - acc: 0.7389 - val_loss: 0.5233 - val_acc: 0.7483\n",
      "Epoch 9/13\n",
      "2640/2640 [==============================] - 5s 2ms/step - loss: 0.5290 - acc: 0.7428 - val_loss: 0.5199 - val_acc: 0.7483\n",
      "Epoch 10/13\n",
      "2640/2640 [==============================] - 4s 2ms/step - loss: 0.5200 - acc: 0.7510 - val_loss: 0.5124 - val_acc: 0.7483\n",
      "Epoch 11/13\n",
      "2640/2640 [==============================] - 5s 2ms/step - loss: 0.4980 - acc: 0.7557 - val_loss: 0.4987 - val_acc: 0.7483\n",
      "Epoch 12/13\n",
      "2640/2640 [==============================] - 5s 2ms/step - loss: 0.4672 - acc: 0.7569 - val_loss: 0.4901 - val_acc: 0.7483\n",
      "Epoch 13/13\n",
      "2640/2640 [==============================] - 6s 2ms/step - loss: 0.4311 - acc: 0.7804 - val_loss: 0.4821 - val_acc: 0.7755\n"
     ]
    },
    {
     "data": {
      "image/png": "[encoded data removed]",
      "text/plain": [
       "<Figure size 432x288 with 1 Axes>"
      ]
     },
     "metadata": {
      "needs_background": "light"
     },
     "output_type": "display_data"
    },
    {
     "data": {
      "image/png": "[encoded data removed]",
      "text/plain": [
       "<Figure size 432x288 with 1 Axes>"
      ]
     },
     "metadata": {
      "needs_background": "light"
     },
     "output_type": "display_data"
    }
   ],
   "source": [
    "## Train the model \n",
    "history = model.fit(X_resampled, y_resampled, batch_size=512, epochs=13, validation_data=(val_X, val_y))\n",
    "plotting(history)"
   ]
  },
  {
   "cell_type": "code",
   "execution_count": 111,
   "metadata": {},
   "outputs": [
    {
     "name": "stdout",
     "output_type": "stream",
     "text": [
      "Test Accuracy: 75.153376\n"
     ]
    }
   ],
   "source": [
    "loss, acc = model.evaluate(test_X, test_y, verbose=0)\n",
    "print('Test Accuracy: %f' % (acc*100))"
   ]
  },
  {
   "cell_type": "code",
   "execution_count": 113,
   "metadata": {},
   "outputs": [
    {
     "data": {
      "text/plain": [
       "array([[0., 1., 0.],\n",
       "       [0., 1., 0.],\n",
       "       [1., 0., 0.],\n",
       "       ...,\n",
       "       [0., 1., 0.],\n",
       "       [0., 1., 0.],\n",
       "       [1., 0., 0.]], dtype=float32)"
      ]
     },
     "execution_count": 113,
     "metadata": {},
     "output_type": "execute_result"
    }
   ],
   "source": [
    "test_y"
   ]
  },
  {
   "cell_type": "code",
   "execution_count": 114,
   "metadata": {},
   "outputs": [
    {
     "data": {
      "text/plain": [
       "(978, 3)"
      ]
     },
     "execution_count": 114,
     "metadata": {},
     "output_type": "execute_result"
    }
   ],
   "source": [
    "pred_test_y.shape"
   ]
  },
  {
   "cell_type": "code",
   "execution_count": 77,
   "metadata": {},
   "outputs": [
    {
     "name": "stdout",
     "output_type": "stream",
     "text": [
      "\r",
      "294/294 [==============================] - 0s 2ms/step\n"
     ]
    }
   ],
   "source": [
    "pred_val_y = model.predict([val_X], batch_size=1024, verbose=1)"
   ]
  },
  {
   "cell_type": "code",
   "execution_count": 78,
   "metadata": {},
   "outputs": [],
   "source": [
    "pred_val_y[pred_val_y>=0.5] = 1\n",
    "pred_val_y[pred_val_y<0.5] = 0"
   ]
  },
  {
   "cell_type": "code",
   "execution_count": 80,
   "metadata": {},
   "outputs": [],
   "source": [
    "# thresholds = []\n",
    "# for thresh in np.arange(0.1, 0.501, 0.01):\n",
    "#     thresh = np.round(thresh, 2)\n",
    "#     res = metrics.f1_score(val_y, (pred_val_y > thresh).astype(int))\n",
    "#     thresholds.append([thresh, res])\n",
    "#     print(\"F1 score at threshold {0} is {1}\".format(thresh, res))\n",
    "    \n",
    "# thresholds.sort(key=lambda x: x[1], reverse=True)\n",
    "# best_thresh = thresholds[0][0]\n",
    "# print(\"Best threshold: \", best_thresh)"
   ]
  },
  {
   "cell_type": "code",
   "execution_count": 97,
   "metadata": {},
   "outputs": [
    {
     "name": "stdout",
     "output_type": "stream",
     "text": [
      "\r",
      "978/978 [==============================] - 1s 528us/step\n"
     ]
    }
   ],
   "source": [
    "pred_test_y = model.predict([test_X], batch_size=1024, verbose=1)\n",
    "# pred_test_y =  (pred_test_y > best_thresh).astype(int)\n",
    "\n"
   ]
  },
  {
   "cell_type": "code",
   "execution_count": 99,
   "metadata": {},
   "outputs": [
    {
     "data": {
      "text/plain": [
       "(978, 3)"
      ]
     },
     "execution_count": 99,
     "metadata": {},
     "output_type": "execute_result"
    }
   ],
   "source": [
    "pred_test_y.shape"
   ]
  },
  {
   "cell_type": "code",
   "execution_count": null,
   "metadata": {},
   "outputs": [],
   "source": [
    "pred_test_y[pred_test_y>=0.5] = 1\n",
    "pred_test_y[pred_test_y<0.5] = 0\n",
    "\n",
    "unique, counts = np.unique(pred_test_y, return_counts=True)\n",
    "print(np.asarray((unique, counts)).T)"
   ]
  },
  {
   "cell_type": "code",
   "execution_count": 86,
   "metadata": {},
   "outputs": [
    {
     "name": "stdout",
     "output_type": "stream",
     "text": [
      "Sensitivity: 0.00%\n",
      "Specificity: 100.00%\n"
     ]
    },
    {
     "data": {
      "image/png": "[encoded data removed]",
      "text/plain": [
       "<Figure size 432x288 with 2 Axes>"
      ]
     },
     "metadata": {
      "needs_background": "light"
     },
     "output_type": "display_data"
    }
   ],
   "source": [
    "getConfusionMatrix(test_y.argmax(axis=1), pred_test_y.argmax(axis=1))"
   ]
  },
  {
   "cell_type": "code",
   "execution_count": 87,
   "metadata": {},
   "outputs": [
    {
     "name": "stdout",
     "output_type": "stream",
     "text": [
      "Accuracy: 0.6226993865030674\n",
      "              precision    recall  f1-score   support\n",
      "\n",
      "           0       0.68      0.89      0.77       609\n",
      "           1       0.00      0.00      0.00       270\n",
      "           2       0.00      0.00      0.00        99\n",
      "\n",
      "   micro avg       0.68      0.55      0.61       978\n",
      "   macro avg       0.23      0.30      0.26       978\n",
      "weighted avg       0.42      0.55      0.48       978\n",
      " samples avg       0.55      0.55      0.55       978\n",
      "\n"
     ]
    },
    {
     "name": "stderr",
     "output_type": "stream",
     "text": [
      "/Users/nikhiloswal/anaconda3/lib/python3.7/site-packages/sklearn/metrics/classification.py:1437: UndefinedMetricWarning: Precision and F-score are ill-defined and being set to 0.0 in labels with no predicted samples.\n",
      "  'precision', 'predicted', average, warn_for)\n",
      "/Users/nikhiloswal/anaconda3/lib/python3.7/site-packages/sklearn/metrics/classification.py:1437: UndefinedMetricWarning: Precision and F-score are ill-defined and being set to 0.0 in labels with no predicted samples.\n",
      "  'precision', 'predicted', average, warn_for)\n",
      "/Users/nikhiloswal/anaconda3/lib/python3.7/site-packages/sklearn/metrics/classification.py:1437: UndefinedMetricWarning: Precision and F-score are ill-defined and being set to 0.0 in labels with no predicted samples.\n",
      "  'precision', 'predicted', average, warn_for)\n",
      "/Users/nikhiloswal/anaconda3/lib/python3.7/site-packages/sklearn/metrics/classification.py:1437: UndefinedMetricWarning: Precision and F-score are ill-defined and being set to 0.0 in samples with no predicted labels.\n",
      "  'precision', 'predicted', average, warn_for)\n"
     ]
    }
   ],
   "source": [
    "print(\"Accuracy:\",metrics.accuracy_score(test_y.argmax(axis=1), pred_test_y.argmax(axis=1)))\n",
    "print(classification_report(test_y, pred_test_y))"
   ]
  },
  {
   "cell_type": "markdown",
   "metadata": {},
   "source": [
    "## Using GloVe Embeddings"
   ]
  },
  {
   "cell_type": "code",
   "execution_count": 115,
   "metadata": {},
   "outputs": [],
   "source": [
    "embed_size = 200"
   ]
  },
  {
   "cell_type": "code",
   "execution_count": 116,
   "metadata": {},
   "outputs": [],
   "source": [
    "from numpy import asarray\n",
    "# load the whole embedding into memory\n",
    "embeddings_index = dict()\n",
    "f = open('glove/glove.twitter.27B.200d.txt', encoding=\"utf8\")\n",
    "for line in f:\n",
    "  values = line.split()\n",
    "  word = values[0]\n",
    "  coefs = asarray(values[1:], dtype='float32')\n",
    "  embeddings_index[word] = coefs\n",
    "f.close()"
   ]
  },
  {
   "cell_type": "code",
   "execution_count": 117,
   "metadata": {},
   "outputs": [],
   "source": [
    "from numpy import zeros\n",
    "# create a weight matrix for words in training docs\n",
    "embedding_matrix = zeros((max_features, embed_size))\n",
    "for word, i in tokenizer.word_index.items():\n",
    "  if i >= max_features: continue\n",
    "  embedding_vector = embeddings_index.get(word)\n",
    "  if embedding_vector is not None:\n",
    "    embedding_matrix[i] = embedding_vector"
   ]
  },
  {
   "cell_type": "code",
   "execution_count": 118,
   "metadata": {},
   "outputs": [
    {
     "name": "stdout",
     "output_type": "stream",
     "text": [
      "_________________________________________________________________\n",
      "Layer (type)                 Output Shape              Param #   \n",
      "=================================================================\n",
      "input_3 (InputLayer)         (None, 100)               0         \n",
      "_________________________________________________________________\n",
      "embedding_3 (Embedding)      (None, 100, 200)          10000000  \n",
      "_________________________________________________________________\n",
      "bidirectional_3 (Bidirection (None, 100, 400)          641600    \n",
      "_________________________________________________________________\n",
      "global_max_pooling1d_3 (Glob (None, 400)               0         \n",
      "_________________________________________________________________\n",
      "dense_5 (Dense)              (None, 16)                6416      \n",
      "_________________________________________________________________\n",
      "dropout_3 (Dropout)          (None, 16)                0         \n",
      "_________________________________________________________________\n",
      "dense_6 (Dense)              (None, 3)                 51        \n",
      "=================================================================\n",
      "Total params: 10,648,067\n",
      "Trainable params: 10,648,067\n",
      "Non-trainable params: 0\n",
      "_________________________________________________________________\n",
      "None\n"
     ]
    }
   ],
   "source": [
    "inp = Input(shape=(maxlen,))\n",
    "x = Embedding(max_features, embed_size, weights=[embedding_matrix])(inp)\n",
    "x = Bidirectional(LSTM(200, return_sequences=True))(x)\n",
    "x = GlobalMaxPool1D()(x)\n",
    "x = Dense(16, activation=\"relu\")(x)\n",
    "x = Dropout(0.1)(x)\n",
    "x = Dense(3, activation=\"sigmoid\")(x)\n",
    "model = Model(inputs=inp, outputs=x)\n",
    "model.compile(loss='binary_crossentropy', optimizer='adam', metrics=['accuracy'])\n",
    "print(model.summary())"
   ]
  },
  {
   "cell_type": "code",
   "execution_count": 119,
   "metadata": {},
   "outputs": [],
   "source": [
    "#X_resampled, y_resampled = undersampleData(train_X, train_y)\n",
    "X_resampled, y_resampled = train_X, train_y\n",
    "#X_resampled, y_resampled = oversampleData(train_X, train_y)"
   ]
  },
  {
   "cell_type": "code",
   "execution_count": 120,
   "metadata": {},
   "outputs": [
    {
     "name": "stdout",
     "output_type": "stream",
     "text": [
      "Train on 2640 samples, validate on 294 samples\n",
      "Epoch 1/13\n",
      "2640/2640 [==============================] - 23s 9ms/step - loss: 0.5715 - acc: 0.6957 - val_loss: 0.5306 - val_acc: 0.7483\n",
      "Epoch 2/13\n",
      "2640/2640 [==============================] - 18s 7ms/step - loss: 0.5297 - acc: 0.7472 - val_loss: 0.4965 - val_acc: 0.7744\n",
      "Epoch 3/13\n",
      "2640/2640 [==============================] - 18s 7ms/step - loss: 0.4956 - acc: 0.7621 - val_loss: 0.4657 - val_acc: 0.7982\n",
      "Epoch 4/13\n",
      "2640/2640 [==============================] - 20s 8ms/step - loss: 0.4567 - acc: 0.8016 - val_loss: 0.4324 - val_acc: 0.8129\n",
      "Epoch 5/13\n",
      "2640/2640 [==============================] - 25s 10ms/step - loss: 0.4303 - acc: 0.8124 - val_loss: 0.4220 - val_acc: 0.8186\n",
      "Epoch 6/13\n",
      "2640/2640 [==============================] - 25s 10ms/step - loss: 0.4168 - acc: 0.8239 - val_loss: 0.4250 - val_acc: 0.8186\n",
      "Epoch 7/13\n",
      "2640/2640 [==============================] - 22s 8ms/step - loss: 0.4020 - acc: 0.8250 - val_loss: 0.4342 - val_acc: 0.8005\n",
      "Epoch 8/13\n",
      "2640/2640 [==============================] - 26s 10ms/step - loss: 0.3931 - acc: 0.8321 - val_loss: 0.4217 - val_acc: 0.8095\n",
      "Epoch 9/13\n",
      "2640/2640 [==============================] - 20s 8ms/step - loss: 0.3753 - acc: 0.8447 - val_loss: 0.4277 - val_acc: 0.8118\n",
      "Epoch 10/13\n",
      "2640/2640 [==============================] - 20s 7ms/step - loss: 0.3682 - acc: 0.8463 - val_loss: 0.4373 - val_acc: 0.7971\n",
      "Epoch 11/13\n",
      "2640/2640 [==============================] - 20s 8ms/step - loss: 0.3532 - acc: 0.8532 - val_loss: 0.4328 - val_acc: 0.8073\n",
      "Epoch 12/13\n",
      "2640/2640 [==============================] - 18s 7ms/step - loss: 0.3315 - acc: 0.8686 - val_loss: 0.4458 - val_acc: 0.8016\n",
      "Epoch 13/13\n",
      "2640/2640 [==============================] - 18s 7ms/step - loss: 0.3089 - acc: 0.8782 - val_loss: 0.4484 - val_acc: 0.8095\n"
     ]
    },
    {
     "data": {
      "image/png": "[encoded data removed]",
      "text/plain": [
       "<Figure size 432x288 with 1 Axes>"
      ]
     },
     "metadata": {
      "needs_background": "light"
     },
     "output_type": "display_data"
    },
    {
     "data": {
      "image/png": "[encoded data removed]",
      "text/plain": [
       "<Figure size 432x288 with 1 Axes>"
      ]
     },
     "metadata": {
      "needs_background": "light"
     },
     "output_type": "display_data"
    },
    {
     "name": "stdout",
     "output_type": "stream",
     "text": [
      "Test Accuracy: 81.935925\n"
     ]
    }
   ],
   "source": [
    "history = model.fit(X_resampled, y_resampled, batch_size=512, epochs=13, validation_data=(val_X, val_y))\n",
    "plotting(history)\n",
    "\n",
    "loss, acc = model.evaluate(test_X, test_y, verbose=0)\n",
    "print('Test Accuracy: %f' % (acc*100))"
   ]
  },
  {
   "cell_type": "code",
   "execution_count": 121,
   "metadata": {},
   "outputs": [],
   "source": [
    "# pred_val_y = model.predict([val_X], batch_size=1024, verbose=1)\n",
    "\n",
    "\n",
    "# thresholds = []\n",
    "# for thresh in np.arange(0.1, 0.501, 0.01):\n",
    "#     thresh = np.round(thresh, 2)\n",
    "#     res = metrics.f1_score(val_y, (pred_val_y > thresh).astype(int))\n",
    "#     thresholds.append([thresh, res])\n",
    "#     print(\"F1 score at threshold {0} is {1}\".format(thresh, res))\n",
    "    \n",
    "# thresholds.sort(key=lambda x: x[1], reverse=True)\n",
    "# best_thresh = thresholds[0][0]\n",
    "# print(\"Best threshold: \", best_thresh)\n"
   ]
  },
  {
   "cell_type": "code",
   "execution_count": 122,
   "metadata": {},
   "outputs": [],
   "source": [
    "# pred_test_y = model.predict([test_X], batch_size=1024, verbose=1)\n",
    "# pred_test_y = (pred_test_y > best_thresh).astype(int)\n",
    "\n",
    "# unique, counts = np.unique(pred_test_y, return_counts=True)\n",
    "# print(np.asarray((unique, counts)).T)"
   ]
  },
  {
   "cell_type": "code",
   "execution_count": 123,
   "metadata": {},
   "outputs": [],
   "source": [
    "# getConfusionMatrix(test_y, pred_test_y)"
   ]
  },
  {
   "cell_type": "code",
   "execution_count": 125,
   "metadata": {},
   "outputs": [
    {
     "name": "stdout",
     "output_type": "stream",
     "text": [
      "\r",
      "294/294 [==============================] - 1s 4ms/step\n"
     ]
    }
   ],
   "source": [
    "pred_val_y = model.predict([val_X], batch_size=1024, verbose=1)"
   ]
  },
  {
   "cell_type": "code",
   "execution_count": 126,
   "metadata": {},
   "outputs": [],
   "source": [
    "pred_val_y[pred_val_y>=0.5] = 1\n",
    "pred_val_y[pred_val_y<0.5] = 0"
   ]
  },
  {
   "cell_type": "code",
   "execution_count": 127,
   "metadata": {},
   "outputs": [
    {
     "name": "stdout",
     "output_type": "stream",
     "text": [
      "\r",
      "978/978 [==============================] - 2s 2ms/step\n"
     ]
    }
   ],
   "source": [
    "pred_test_y = model.predict([test_X], batch_size=1024, verbose=1)\n",
    "# pred_test_y =  (pred_test_y > best_thresh).astype(int)\n",
    "\n"
   ]
  },
  {
   "cell_type": "code",
   "execution_count": 128,
   "metadata": {},
   "outputs": [
    {
     "name": "stdout",
     "output_type": "stream",
     "text": [
      "[[0.000e+00 2.058e+03]\n",
      " [1.000e+00 8.760e+02]]\n"
     ]
    }
   ],
   "source": [
    "pred_test_y[pred_test_y>=0.5] = 1\n",
    "pred_test_y[pred_test_y<0.5] = 0\n",
    "\n",
    "unique, counts = np.unique(pred_test_y, return_counts=True)\n",
    "print(np.asarray((unique, counts)).T)"
   ]
  },
  {
   "cell_type": "code",
   "execution_count": 129,
   "metadata": {},
   "outputs": [
    {
     "name": "stdout",
     "output_type": "stream",
     "text": [
      "Sensitivity: 44.81%\n",
      "Specificity: 94.09%\n"
     ]
    },
    {
     "data": {
      "image/png": "[encoded data removed]",
      "text/plain": [
       "<Figure size 432x288 with 2 Axes>"
      ]
     },
     "metadata": {
      "needs_background": "light"
     },
     "output_type": "display_data"
    }
   ],
   "source": [
    "getConfusionMatrix(test_y.argmax(axis=1), pred_test_y.argmax(axis=1))"
   ]
  },
  {
   "cell_type": "code",
   "execution_count": 130,
   "metadata": {},
   "outputs": [
    {
     "name": "stdout",
     "output_type": "stream",
     "text": [
      "Accuracy: 0.7096114519427403\n",
      "              precision    recall  f1-score   support\n",
      "\n",
      "           0       0.78      0.89      0.83       609\n",
      "           1       0.66      0.45      0.53       270\n",
      "           2       0.00      0.00      0.00        99\n",
      "\n",
      "   micro avg       0.76      0.68      0.71       978\n",
      "   macro avg       0.48      0.45      0.46       978\n",
      "weighted avg       0.67      0.68      0.66       978\n",
      " samples avg       0.68      0.68      0.68       978\n",
      "\n"
     ]
    },
    {
     "name": "stderr",
     "output_type": "stream",
     "text": [
      "/Users/nikhiloswal/anaconda3/lib/python3.7/site-packages/sklearn/metrics/classification.py:1437: UndefinedMetricWarning: Precision and F-score are ill-defined and being set to 0.0 in labels with no predicted samples.\n",
      "  'precision', 'predicted', average, warn_for)\n",
      "/Users/nikhiloswal/anaconda3/lib/python3.7/site-packages/sklearn/metrics/classification.py:1437: UndefinedMetricWarning: Precision and F-score are ill-defined and being set to 0.0 in labels with no predicted samples.\n",
      "  'precision', 'predicted', average, warn_for)\n",
      "/Users/nikhiloswal/anaconda3/lib/python3.7/site-packages/sklearn/metrics/classification.py:1437: UndefinedMetricWarning: Precision and F-score are ill-defined and being set to 0.0 in labels with no predicted samples.\n",
      "  'precision', 'predicted', average, warn_for)\n",
      "/Users/nikhiloswal/anaconda3/lib/python3.7/site-packages/sklearn/metrics/classification.py:1437: UndefinedMetricWarning: Precision and F-score are ill-defined and being set to 0.0 in samples with no predicted labels.\n",
      "  'precision', 'predicted', average, warn_for)\n"
     ]
    }
   ],
   "source": [
    "print(\"Accuracy:\",metrics.accuracy_score(test_y.argmax(axis=1), pred_test_y.argmax(axis=1)))\n",
    "print(classification_report(test_y, pred_test_y))"
   ]
  },
  {
   "cell_type": "code",
   "execution_count": null,
   "metadata": {},
   "outputs": [],
   "source": []
  },
  {
   "cell_type": "code",
   "execution_count": null,
   "metadata": {},
   "outputs": [],
   "source": []
  },
  {
   "cell_type": "code",
   "execution_count": null,
   "metadata": {},
   "outputs": [],
   "source": []
  }
 ],
 "metadata": {
  "kernelspec": {
   "display_name": "Python 3",
   "language": "python",
   "name": "python3"
  },
  "language_info": {
   "codemirror_mode": {
    "name": "ipython",
    "version": 3
   },
   "file_extension": ".py",
   "mimetype": "text/x-python",
   "name": "python",
   "nbconvert_exporter": "python",
   "pygments_lexer": "ipython3",
   "version": "3.7.1"
  }
 },
 "nbformat": 4,
 "nbformat_minor": 2
}
